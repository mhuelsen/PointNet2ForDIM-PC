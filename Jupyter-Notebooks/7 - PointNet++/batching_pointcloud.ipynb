{
 "cells": [
  {
   "cell_type": "markdown",
   "id": "44691bb8-932d-4207-9d64-14dc763a2b41",
   "metadata": {},
   "source": [
    "# Batching pointclouds\n",
    "To tile the point cloud into batches we will use a fixed number of points, e.g. 200,000, und select points in a circular shape. <br>\n",
    "To ensure that every point is covered we calculate a grid of centroid for those circles, which depends on the pointdensity.\n",
    "\n",
    "<b>This Jupyter-Notebook is part of a master thesis with the topic<br>\n",
    "<i>Analysis of deep learning methods for semantic segmentation of photogrammetric point clouds from aerial images</i><br>\n",
    "&copy; Markus Hülsen, Matr.-Nr. 6026370<br>\n",
    "Date: 15.08.2023</b>"
   ]
  },
  {
   "cell_type": "code",
   "execution_count": 1,
   "id": "430e979a-4b7c-4183-ba66-acc72890f18b",
   "metadata": {
    "tags": []
   },
   "outputs": [],
   "source": [
    "import numpy as np\n",
    "import laspy\n",
    "import pandas as pd\n",
    "import os\n",
    "from scipy.spatial import KDTree\n",
    "from sklearn.preprocessing import normalize"
   ]
  },
  {
   "cell_type": "markdown",
   "id": "7cd60cf7-175d-49ec-8c14-b426044d9dad",
   "metadata": {},
   "source": [
    "First we will create a class for the a single `Dataset`."
   ]
  },
  {
   "cell_type": "code",
   "execution_count": 2,
   "id": "baa16790-a14a-44e5-a860-4ccf6b570524",
   "metadata": {
    "tags": []
   },
   "outputs": [],
   "source": [
    "class Dataset():\n",
    "    def __init__(self, file, load=True):\n",
    "        # file = path to pointcloud file (*.las or *.laz)\n",
    "        self.file = file\n",
    "        self.df_pc = None\n",
    "        self.xmax = self.ymax = self.xmin = self.ymin = None\n",
    "        if load:\n",
    "            self.load_data()\n",
    "            \n",
    "    def load_data(self):\n",
    "        with laspy.open(self.file) as f:\n",
    "            las = f.read()\n",
    "    \n",
    "        # read coordinates from las\n",
    "        x = np.array(las.x)\n",
    "        y = np.array(las.y)\n",
    "        z = np.array(las.z)\n",
    "        \n",
    "        # define maximum and minimal values\n",
    "        self.xmin = min(x)\n",
    "        self.ymin = min(y)\n",
    "        self.xmax = max(x)\n",
    "        self.ymax = max(y)\n",
    "    \n",
    "        # save coords to DataFrame\n",
    "        self.df_pc = pd.DataFrame({'X':x,'Y':y,'Z':z},index=np.arange(len(x)))\n",
    "    \n",
    "        # save every dimension to DataFrame\n",
    "        for i in range(3, len(las.point_format.dimensions)):\n",
    "            dim = las.point_format.dimensions[i].name\n",
    "            self.df_pc[dim] = np.array(las[dim])\n",
    "    \n",
    "    @property\n",
    "    def labels(self):\n",
    "        # get labels as numpy array \n",
    "        if self.df_pc is None:\n",
    "            self.load_data()\n",
    "        labels = self.df_pc.loc[:, 'classification'].to_numpy()\n",
    "        return labels\n",
    "    \n",
    "    @property\n",
    "    def xyz(self):\n",
    "        # get coordinates (XYZ) as numpy array\n",
    "        if self.df_pc is None:\n",
    "            self.load_data()\n",
    "        xyz = self.df_pc.loc[:, 'X':'Z'].to_numpy()\n",
    "        return xyz\n",
    "    \n",
    "    @property\n",
    "    def features(self):\n",
    "        # get features a numpy array\n",
    "        if self.df_pc is None:\n",
    "            self.load_data()\n",
    "        feat = self.df_pc.drop(['X','Y','Z'], axis=1).to_numpy()\n",
    "        return feat\n",
    "    \n",
    "    @property\n",
    "    def xyz_and_features(self):\n",
    "        # get coordinates (XYZ) and features as numpy array\n",
    "        if self.df_pc is None:\n",
    "            self.load_data()\n",
    "        xyz = self.xyz\n",
    "        feat = self.features\n",
    "        xyz_feat = np.hstack((xyz, feat))\n",
    "        return xyz_feat\n",
    "    \n",
    "    @property\n",
    "    def pointdensity(self):\n",
    "        area = (self.xmax - self.xmin) * (self.ymax - self.ymin)\n",
    "        return len(self) / area\n",
    "    \n",
    "    def __len__(self):\n",
    "        return self.df_pc.shape[0]"
   ]
  },
  {
   "cell_type": "markdown",
   "id": "bb718d0b-dc99-42f0-bcd2-4ab45923c3a3",
   "metadata": {},
   "source": [
    "Get laz.files"
   ]
  },
  {
   "cell_type": "code",
   "execution_count": 3,
   "id": "b3728b3e-e4d9-4e67-9704-fb88e7702caa",
   "metadata": {
    "tags": []
   },
   "outputs": [
    {
     "data": {
      "text/plain": [
       "['../../Daten/Datensatz_H3D/DIM_2022/7 - DBScan/edited/554000_5798000.laz',\n",
       " '../../Daten/Datensatz_H3D/DIM_2022/7 - DBScan/edited/554000_5799000.laz',\n",
       " '../../Daten/Datensatz_H3D/DIM_2022/7 - DBScan/edited/554000_5800000.laz',\n",
       " '../../Daten/Datensatz_H3D/DIM_2022/7 - DBScan/edited/554000_5801000.laz',\n",
       " '../../Daten/Datensatz_H3D/DIM_2022/7 - DBScan/edited/555000_5798000.laz',\n",
       " '../../Daten/Datensatz_H3D/DIM_2022/7 - DBScan/edited/555000_5799000.laz',\n",
       " '../../Daten/Datensatz_H3D/DIM_2022/7 - DBScan/edited/555000_5800000.laz',\n",
       " '../../Daten/Datensatz_H3D/DIM_2022/7 - DBScan/edited/555000_5801000.laz',\n",
       " '../../Daten/Datensatz_H3D/DIM_2022/7 - DBScan/edited/556000_5798000.laz',\n",
       " '../../Daten/Datensatz_H3D/DIM_2022/7 - DBScan/edited/556000_5799000.laz',\n",
       " '../../Daten/Datensatz_H3D/DIM_2022/7 - DBScan/edited/556000_5800000.laz',\n",
       " '../../Daten/Datensatz_H3D/DIM_2022/7 - DBScan/edited/556000_5801000.laz']"
      ]
     },
     "execution_count": 3,
     "metadata": {},
     "output_type": "execute_result"
    }
   ],
   "source": [
    "# path where the data ist stored\n",
    "data_path = '../../Daten/Datensatz_H3D/DIM_2022/7 - DBScan/edited'\n",
    "\n",
    "# save files that are in laz-format\n",
    "lst_files = []\n",
    "for file in os.listdir(data_path):\n",
    "    if file.endswith('.laz'):\n",
    "        lst_files.append(data_path + '/' + file)\n",
    "lst_files = sorted(lst_files)\n",
    "lst_files"
   ]
  },
  {
   "cell_type": "markdown",
   "id": "99f32233-ff4b-4479-9e3e-6e51d58bef26",
   "metadata": {},
   "source": [
    "## Test our class\n",
    "Initalize class with first file."
   ]
  },
  {
   "cell_type": "code",
   "execution_count": 4,
   "id": "3e81eebc-585f-4c19-9837-145946aaa18c",
   "metadata": {
    "tags": []
   },
   "outputs": [],
   "source": [
    "dataset = Dataset(lst_files[0])"
   ]
  },
  {
   "cell_type": "markdown",
   "id": "ba5ef84b-fcc9-43b7-84ff-52b3f96d4f13",
   "metadata": {},
   "source": [
    "Test functions."
   ]
  },
  {
   "cell_type": "code",
   "execution_count": 5,
   "id": "9a6badf0-2d01-47e6-8a6a-74789bdf4fd2",
   "metadata": {
    "tags": []
   },
   "outputs": [
    {
     "name": "stdout",
     "output_type": "stream",
     "text": [
      "length of dataset:\t\t5631164\n",
      "Minimum X of pointcloud:\t554000.0\n",
      "average point density:\t\t5.633\n",
      "coordinates of pointcloud:\n",
      "[[5.54866150e+05 5.79848756e+06 7.05600000e+01]\n",
      " [5.54864200e+05 5.79848763e+06 7.04500000e+01]\n",
      " [5.54877160e+05 5.79849281e+06 7.06100000e+01]\n",
      " ...\n",
      " [5.54330680e+05 5.79858891e+06 6.92100000e+01]\n",
      " [5.54324510e+05 5.79858784e+06 6.92700000e+01]\n",
      " [5.54330830e+05 5.79858860e+06 6.92400000e+01]]\n"
     ]
    }
   ],
   "source": [
    "print(f'length of dataset:\\t\\t{len(dataset)}')\n",
    "print(f'Minimum X of pointcloud:\\t{dataset.xmin}')\n",
    "print(f'average point density:\\t\\t{dataset.pointdensity:.3f}')\n",
    "print(f'coordinates of pointcloud:\\n{dataset.xyz}')"
   ]
  },
  {
   "cell_type": "code",
   "execution_count": 6,
   "id": "54aa801a-8054-4ca8-84bb-1c70c91c01e9",
   "metadata": {
    "tags": []
   },
   "outputs": [
    {
     "data": {
      "text/html": [
       "<div>\n",
       "<style scoped>\n",
       "    .dataframe tbody tr th:only-of-type {\n",
       "        vertical-align: middle;\n",
       "    }\n",
       "\n",
       "    .dataframe tbody tr th {\n",
       "        vertical-align: top;\n",
       "    }\n",
       "\n",
       "    .dataframe thead th {\n",
       "        text-align: right;\n",
       "    }\n",
       "</style>\n",
       "<table border=\"1\" class=\"dataframe\">\n",
       "  <thead>\n",
       "    <tr style=\"text-align: right;\">\n",
       "      <th></th>\n",
       "      <th>X</th>\n",
       "      <th>Y</th>\n",
       "      <th>Z</th>\n",
       "      <th>intensity</th>\n",
       "      <th>return_number</th>\n",
       "      <th>number_of_returns</th>\n",
       "      <th>scan_direction_flag</th>\n",
       "      <th>edge_of_flight_line</th>\n",
       "      <th>classification</th>\n",
       "      <th>synthetic</th>\n",
       "      <th>...</th>\n",
       "      <th>planarity</th>\n",
       "      <th>eigenentropy</th>\n",
       "      <th>curvature change</th>\n",
       "      <th>local_pointdensity</th>\n",
       "      <th>roughness</th>\n",
       "      <th>label</th>\n",
       "      <th>z_to_dem</th>\n",
       "      <th>inside_road</th>\n",
       "      <th>count_veg</th>\n",
       "      <th>count_ground</th>\n",
       "    </tr>\n",
       "  </thead>\n",
       "  <tbody>\n",
       "    <tr>\n",
       "      <th>0</th>\n",
       "      <td>554866.15</td>\n",
       "      <td>5798487.56</td>\n",
       "      <td>70.56</td>\n",
       "      <td>8869</td>\n",
       "      <td>1</td>\n",
       "      <td>5</td>\n",
       "      <td>0</td>\n",
       "      <td>0</td>\n",
       "      <td>6</td>\n",
       "      <td>0</td>\n",
       "      <td>...</td>\n",
       "      <td>NaN</td>\n",
       "      <td>NaN</td>\n",
       "      <td>NaN</td>\n",
       "      <td>NaN</td>\n",
       "      <td>NaN</td>\n",
       "      <td>NaN</td>\n",
       "      <td>0.507541</td>\n",
       "      <td>0.0</td>\n",
       "      <td>NaN</td>\n",
       "      <td>NaN</td>\n",
       "    </tr>\n",
       "    <tr>\n",
       "      <th>1</th>\n",
       "      <td>554864.20</td>\n",
       "      <td>5798487.63</td>\n",
       "      <td>70.45</td>\n",
       "      <td>8873</td>\n",
       "      <td>1</td>\n",
       "      <td>2</td>\n",
       "      <td>0</td>\n",
       "      <td>0</td>\n",
       "      <td>6</td>\n",
       "      <td>0</td>\n",
       "      <td>...</td>\n",
       "      <td>NaN</td>\n",
       "      <td>NaN</td>\n",
       "      <td>NaN</td>\n",
       "      <td>NaN</td>\n",
       "      <td>NaN</td>\n",
       "      <td>NaN</td>\n",
       "      <td>0.343253</td>\n",
       "      <td>0.0</td>\n",
       "      <td>NaN</td>\n",
       "      <td>NaN</td>\n",
       "    </tr>\n",
       "    <tr>\n",
       "      <th>2</th>\n",
       "      <td>554877.16</td>\n",
       "      <td>5798492.81</td>\n",
       "      <td>70.61</td>\n",
       "      <td>9356</td>\n",
       "      <td>1</td>\n",
       "      <td>2</td>\n",
       "      <td>0</td>\n",
       "      <td>0</td>\n",
       "      <td>6</td>\n",
       "      <td>0</td>\n",
       "      <td>...</td>\n",
       "      <td>NaN</td>\n",
       "      <td>NaN</td>\n",
       "      <td>NaN</td>\n",
       "      <td>NaN</td>\n",
       "      <td>NaN</td>\n",
       "      <td>NaN</td>\n",
       "      <td>0.510372</td>\n",
       "      <td>0.0</td>\n",
       "      <td>NaN</td>\n",
       "      <td>NaN</td>\n",
       "    </tr>\n",
       "    <tr>\n",
       "      <th>3</th>\n",
       "      <td>554864.20</td>\n",
       "      <td>5798487.79</td>\n",
       "      <td>70.47</td>\n",
       "      <td>8873</td>\n",
       "      <td>1</td>\n",
       "      <td>2</td>\n",
       "      <td>0</td>\n",
       "      <td>0</td>\n",
       "      <td>6</td>\n",
       "      <td>0</td>\n",
       "      <td>...</td>\n",
       "      <td>NaN</td>\n",
       "      <td>NaN</td>\n",
       "      <td>NaN</td>\n",
       "      <td>NaN</td>\n",
       "      <td>NaN</td>\n",
       "      <td>NaN</td>\n",
       "      <td>0.361733</td>\n",
       "      <td>0.0</td>\n",
       "      <td>NaN</td>\n",
       "      <td>NaN</td>\n",
       "    </tr>\n",
       "    <tr>\n",
       "      <th>4</th>\n",
       "      <td>554869.83</td>\n",
       "      <td>5798491.05</td>\n",
       "      <td>74.13</td>\n",
       "      <td>17329</td>\n",
       "      <td>1</td>\n",
       "      <td>7</td>\n",
       "      <td>0</td>\n",
       "      <td>0</td>\n",
       "      <td>6</td>\n",
       "      <td>0</td>\n",
       "      <td>...</td>\n",
       "      <td>NaN</td>\n",
       "      <td>NaN</td>\n",
       "      <td>NaN</td>\n",
       "      <td>NaN</td>\n",
       "      <td>NaN</td>\n",
       "      <td>NaN</td>\n",
       "      <td>4.054098</td>\n",
       "      <td>0.0</td>\n",
       "      <td>NaN</td>\n",
       "      <td>NaN</td>\n",
       "    </tr>\n",
       "    <tr>\n",
       "      <th>...</th>\n",
       "      <td>...</td>\n",
       "      <td>...</td>\n",
       "      <td>...</td>\n",
       "      <td>...</td>\n",
       "      <td>...</td>\n",
       "      <td>...</td>\n",
       "      <td>...</td>\n",
       "      <td>...</td>\n",
       "      <td>...</td>\n",
       "      <td>...</td>\n",
       "      <td>...</td>\n",
       "      <td>...</td>\n",
       "      <td>...</td>\n",
       "      <td>...</td>\n",
       "      <td>...</td>\n",
       "      <td>...</td>\n",
       "      <td>...</td>\n",
       "      <td>...</td>\n",
       "      <td>...</td>\n",
       "      <td>...</td>\n",
       "      <td>...</td>\n",
       "    </tr>\n",
       "    <tr>\n",
       "      <th>5631159</th>\n",
       "      <td>554330.37</td>\n",
       "      <td>5798588.29</td>\n",
       "      <td>69.24</td>\n",
       "      <td>7499</td>\n",
       "      <td>1</td>\n",
       "      <td>4</td>\n",
       "      <td>0</td>\n",
       "      <td>0</td>\n",
       "      <td>6</td>\n",
       "      <td>0</td>\n",
       "      <td>...</td>\n",
       "      <td>1.228618</td>\n",
       "      <td>-0.501297</td>\n",
       "      <td>0.431701</td>\n",
       "      <td>0.713115</td>\n",
       "      <td>0.674832</td>\n",
       "      <td>1.0</td>\n",
       "      <td>2.455299</td>\n",
       "      <td>0.0</td>\n",
       "      <td>33.0</td>\n",
       "      <td>19.0</td>\n",
       "    </tr>\n",
       "    <tr>\n",
       "      <th>5631160</th>\n",
       "      <td>554326.79</td>\n",
       "      <td>5798588.75</td>\n",
       "      <td>69.24</td>\n",
       "      <td>7499</td>\n",
       "      <td>1</td>\n",
       "      <td>4</td>\n",
       "      <td>0</td>\n",
       "      <td>0</td>\n",
       "      <td>6</td>\n",
       "      <td>0</td>\n",
       "      <td>...</td>\n",
       "      <td>0.274811</td>\n",
       "      <td>-3.273526</td>\n",
       "      <td>0.075397</td>\n",
       "      <td>1.068392</td>\n",
       "      <td>0.123233</td>\n",
       "      <td>1.0</td>\n",
       "      <td>2.453916</td>\n",
       "      <td>0.0</td>\n",
       "      <td>42.0</td>\n",
       "      <td>2.0</td>\n",
       "    </tr>\n",
       "    <tr>\n",
       "      <th>5631161</th>\n",
       "      <td>554330.68</td>\n",
       "      <td>5798588.91</td>\n",
       "      <td>69.21</td>\n",
       "      <td>7499</td>\n",
       "      <td>1</td>\n",
       "      <td>5</td>\n",
       "      <td>0</td>\n",
       "      <td>0</td>\n",
       "      <td>6</td>\n",
       "      <td>0</td>\n",
       "      <td>...</td>\n",
       "      <td>0.522878</td>\n",
       "      <td>-1.338616</td>\n",
       "      <td>0.041746</td>\n",
       "      <td>0.730131</td>\n",
       "      <td>0.963822</td>\n",
       "      <td>1.0</td>\n",
       "      <td>2.435219</td>\n",
       "      <td>0.0</td>\n",
       "      <td>31.0</td>\n",
       "      <td>23.0</td>\n",
       "    </tr>\n",
       "    <tr>\n",
       "      <th>5631162</th>\n",
       "      <td>554324.51</td>\n",
       "      <td>5798587.84</td>\n",
       "      <td>69.27</td>\n",
       "      <td>10151</td>\n",
       "      <td>1</td>\n",
       "      <td>3</td>\n",
       "      <td>0</td>\n",
       "      <td>0</td>\n",
       "      <td>6</td>\n",
       "      <td>0</td>\n",
       "      <td>...</td>\n",
       "      <td>-0.604568</td>\n",
       "      <td>-0.630222</td>\n",
       "      <td>0.383430</td>\n",
       "      <td>0.659132</td>\n",
       "      <td>1.499709</td>\n",
       "      <td>5.0</td>\n",
       "      <td>2.428519</td>\n",
       "      <td>0.0</td>\n",
       "      <td>26.0</td>\n",
       "      <td>42.0</td>\n",
       "    </tr>\n",
       "    <tr>\n",
       "      <th>5631163</th>\n",
       "      <td>554330.83</td>\n",
       "      <td>5798588.60</td>\n",
       "      <td>69.24</td>\n",
       "      <td>7499</td>\n",
       "      <td>1</td>\n",
       "      <td>5</td>\n",
       "      <td>0</td>\n",
       "      <td>0</td>\n",
       "      <td>6</td>\n",
       "      <td>0</td>\n",
       "      <td>...</td>\n",
       "      <td>-0.433458</td>\n",
       "      <td>-2.014521</td>\n",
       "      <td>0.332797</td>\n",
       "      <td>0.710575</td>\n",
       "      <td>0.999975</td>\n",
       "      <td>5.0</td>\n",
       "      <td>2.448757</td>\n",
       "      <td>0.0</td>\n",
       "      <td>28.0</td>\n",
       "      <td>26.0</td>\n",
       "    </tr>\n",
       "  </tbody>\n",
       "</table>\n",
       "<p>5631164 rows × 35 columns</p>\n",
       "</div>"
      ],
      "text/plain": [
       "                 X           Y      Z  intensity  return_number  \\\n",
       "0        554866.15  5798487.56  70.56       8869              1   \n",
       "1        554864.20  5798487.63  70.45       8873              1   \n",
       "2        554877.16  5798492.81  70.61       9356              1   \n",
       "3        554864.20  5798487.79  70.47       8873              1   \n",
       "4        554869.83  5798491.05  74.13      17329              1   \n",
       "...            ...         ...    ...        ...            ...   \n",
       "5631159  554330.37  5798588.29  69.24       7499              1   \n",
       "5631160  554326.79  5798588.75  69.24       7499              1   \n",
       "5631161  554330.68  5798588.91  69.21       7499              1   \n",
       "5631162  554324.51  5798587.84  69.27      10151              1   \n",
       "5631163  554330.83  5798588.60  69.24       7499              1   \n",
       "\n",
       "         number_of_returns  scan_direction_flag  edge_of_flight_line  \\\n",
       "0                        5                    0                    0   \n",
       "1                        2                    0                    0   \n",
       "2                        2                    0                    0   \n",
       "3                        2                    0                    0   \n",
       "4                        7                    0                    0   \n",
       "...                    ...                  ...                  ...   \n",
       "5631159                  4                    0                    0   \n",
       "5631160                  4                    0                    0   \n",
       "5631161                  5                    0                    0   \n",
       "5631162                  3                    0                    0   \n",
       "5631163                  5                    0                    0   \n",
       "\n",
       "         classification  synthetic  ...  planarity  eigenentropy  \\\n",
       "0                     6          0  ...        NaN           NaN   \n",
       "1                     6          0  ...        NaN           NaN   \n",
       "2                     6          0  ...        NaN           NaN   \n",
       "3                     6          0  ...        NaN           NaN   \n",
       "4                     6          0  ...        NaN           NaN   \n",
       "...                 ...        ...  ...        ...           ...   \n",
       "5631159               6          0  ...   1.228618     -0.501297   \n",
       "5631160               6          0  ...   0.274811     -3.273526   \n",
       "5631161               6          0  ...   0.522878     -1.338616   \n",
       "5631162               6          0  ...  -0.604568     -0.630222   \n",
       "5631163               6          0  ...  -0.433458     -2.014521   \n",
       "\n",
       "         curvature change  local_pointdensity  roughness  label  z_to_dem  \\\n",
       "0                     NaN                 NaN        NaN    NaN  0.507541   \n",
       "1                     NaN                 NaN        NaN    NaN  0.343253   \n",
       "2                     NaN                 NaN        NaN    NaN  0.510372   \n",
       "3                     NaN                 NaN        NaN    NaN  0.361733   \n",
       "4                     NaN                 NaN        NaN    NaN  4.054098   \n",
       "...                   ...                 ...        ...    ...       ...   \n",
       "5631159          0.431701            0.713115   0.674832    1.0  2.455299   \n",
       "5631160          0.075397            1.068392   0.123233    1.0  2.453916   \n",
       "5631161          0.041746            0.730131   0.963822    1.0  2.435219   \n",
       "5631162          0.383430            0.659132   1.499709    5.0  2.428519   \n",
       "5631163          0.332797            0.710575   0.999975    5.0  2.448757   \n",
       "\n",
       "         inside_road  count_veg  count_ground  \n",
       "0                0.0        NaN           NaN  \n",
       "1                0.0        NaN           NaN  \n",
       "2                0.0        NaN           NaN  \n",
       "3                0.0        NaN           NaN  \n",
       "4                0.0        NaN           NaN  \n",
       "...              ...        ...           ...  \n",
       "5631159          0.0       33.0          19.0  \n",
       "5631160          0.0       42.0           2.0  \n",
       "5631161          0.0       31.0          23.0  \n",
       "5631162          0.0       26.0          42.0  \n",
       "5631163          0.0       28.0          26.0  \n",
       "\n",
       "[5631164 rows x 35 columns]"
      ]
     },
     "execution_count": 6,
     "metadata": {},
     "output_type": "execute_result"
    }
   ],
   "source": [
    "dataset.df_pc"
   ]
  },
  {
   "cell_type": "markdown",
   "id": "fc20d44c-ca24-49f0-bed4-7bfb0d2142a8",
   "metadata": {},
   "source": [
    "## Batching-Class \n",
    "Next we will create a class for batching."
   ]
  },
  {
   "cell_type": "code",
   "execution_count": 7,
   "id": "a55b39c3-ef0e-4cc4-a4b4-9b7c1a7dedc4",
   "metadata": {
    "tags": []
   },
   "outputs": [],
   "source": [
    "class kNNBatchDataset(Dataset):\n",
    "    def __init__(self, k, spacing, *args, **kwargs):\n",
    "        super(kNNBatchDataset, self).__init__(*args, **kwargs)\n",
    "        # distance between grid points\n",
    "        self.spacing = spacing\n",
    "        # number of points for kNN\n",
    "        self.k = k\n",
    "        # initalze KDTree\n",
    "        self.tree = None\n",
    "        # current index\n",
    "        self.currIdx = 0\n",
    "        # calculate numver of rows and columns of the grid\n",
    "        self.num_cols = (self.xmax - self.xmin - self.spacing/2) // (self.spacing) + 1\n",
    "        self.num_rows = (self.ymax - self.ymin - self.spacing/2) // (self.spacing) + 1\n",
    "        #calc number of batches, which is equal to number of gridpoints\n",
    "        self.num_batches = int(self.num_cols * self.num_rows)\n",
    "        self.rndzer = list(range(self.num_batches))\n",
    "        np.random.shuffle(self.rndzer)\n",
    "        self.buildKD()\n",
    "    \n",
    "    def buildKD(self):\n",
    "        self.tree = KDTree(self.xyz[:, 0:2])    # build only on XY\n",
    "    \n",
    "    def getBatches(self, batch_size=None):\n",
    "        centers = []\n",
    "        self.currIdx = 0\n",
    "        \n",
    "        if batch_size is None:\n",
    "            batch_size = self.num_batches\n",
    "        \n",
    "        for i in range(batch_size):\n",
    "            if self.currIdx >= self.num_batches:\n",
    "                break\n",
    "            centers.append([self.xmin + self.spacing/2 + (self.currIdx // self.num_cols) * self.spacing,\n",
    "                            self.ymin + self.spacing/2 + (self.currIdx % self.num_cols) * self.spacing])\n",
    "            self.currIdx += 1\n",
    "        if centers:\n",
    "            _, idx = self.tree.query(centers, k=self.k)\n",
    "            return self.xyz_and_features[idx, :], self.labels[idx]\n",
    "        else:\n",
    "            return None, None"
   ]
  },
  {
   "cell_type": "markdown",
   "id": "89dbb99c-0eba-4cd9-9577-6b2d0cc95243",
   "metadata": {},
   "source": [
    "Set hyperparameters for batching"
   ]
  },
  {
   "cell_type": "code",
   "execution_count": 8,
   "id": "a4788100-d186-411f-87d9-add17bc0e7d1",
   "metadata": {
    "tags": []
   },
   "outputs": [
    {
     "name": "stdout",
     "output_type": "stream",
     "text": [
      "71.41417597467252\n"
     ]
    }
   ],
   "source": [
    "num_points = 200000\n",
    "spacing = np.sqrt(num_points / dataset.pointdensity/np.pi) * np.sqrt(2)/2 * 0.95\n",
    "print(spacing)"
   ]
  },
  {
   "cell_type": "markdown",
   "id": "85b28051-fc53-4c78-bbde-481f0d16be1e",
   "metadata": {},
   "source": [
    "create a batch dataset"
   ]
  },
  {
   "cell_type": "code",
   "execution_count": 9,
   "id": "c67033c3-cb3d-4582-b29b-726da5467d02",
   "metadata": {
    "tags": []
   },
   "outputs": [],
   "source": [
    "kNN_dataset = kNNBatchDataset(file=lst_files[0], k=num_points, spacing=spacing)"
   ]
  },
  {
   "cell_type": "markdown",
   "id": "390353f5-ab75-4dce-8974-1d19f0682f2a",
   "metadata": {},
   "source": [
    "Get the batches and corresponding labels"
   ]
  },
  {
   "cell_type": "code",
   "execution_count": 10,
   "id": "68cade4e-7cb8-48ed-851e-e9e14d402864",
   "metadata": {
    "tags": []
   },
   "outputs": [
    {
     "data": {
      "text/plain": [
       "(196, 200000, 35)"
      ]
     },
     "execution_count": 10,
     "metadata": {},
     "output_type": "execute_result"
    }
   ],
   "source": [
    "points, labels = kNN_dataset.getBatches(kNN_dataset.num_batches)\n",
    "points.shape"
   ]
  },
  {
   "cell_type": "code",
   "execution_count": 12,
   "id": "f565e138-7185-4f23-be40-c35f7db25346",
   "metadata": {
    "tags": []
   },
   "outputs": [
    {
     "data": {
      "text/plain": [
       "(196, 200000)"
      ]
     },
     "execution_count": 12,
     "metadata": {},
     "output_type": "execute_result"
    }
   ],
   "source": [
    "labels.shape"
   ]
  },
  {
   "cell_type": "markdown",
   "id": "6392aa82-7a94-4473-a3ed-eb0e506377b4",
   "metadata": {},
   "source": [
    "Function to save a DataFrame as LAS-files"
   ]
  },
  {
   "cell_type": "code",
   "execution_count": 14,
   "id": "2bbe46bb-043e-4e01-869f-8aa47ee6dbaf",
   "metadata": {
    "tags": []
   },
   "outputs": [],
   "source": [
    "def save_df_to_las(df, path):\n",
    "    \n",
    "    header = laspy.LasHeader(point_format=3, version=\"1.2\")\n",
    "    \n",
    "    atts = []\n",
    "    for dim in header.point_format.dimensions:\n",
    "        atts.append(dim.name)\n",
    "    \n",
    "    for dim in df.columns:\n",
    "        if dim not in atts:\n",
    "            header.add_extra_dim(laspy.ExtraBytesParams(name=dim, type=np.float32))\n",
    "    \n",
    "    las_new = laspy.LasData(header)\n",
    "\n",
    "    las_new.x = df.X.to_numpy()\n",
    "    las_new.y = df.Y.to_numpy()\n",
    "    las_new.z = df.Z.to_numpy()\n",
    "    \n",
    "    for col in df.loc[:,'intensity':].columns:\n",
    "        las_new[col] = df[col].to_numpy()\n",
    "    \n",
    "    las_new.write(path)"
   ]
  },
  {
   "cell_type": "markdown",
   "id": "092a51b0-e035-4992-a714-846054fd420c",
   "metadata": {},
   "source": [
    "Save Batches"
   ]
  },
  {
   "cell_type": "code",
   "execution_count": 28,
   "id": "e49cda0f-24bf-420e-b65e-e35a3ee00672",
   "metadata": {},
   "outputs": [],
   "source": [
    "for i in range(len(points)):\n",
    "    save_df_to_las(pd.DataFrame(points[i], columns=kNN_dataset.df_pc.columns), 'batches/batch_' + f'{i:03d}' + '.laz')"
   ]
  }
 ],
 "metadata": {
  "kernelspec": {
   "display_name": "Python 3 (ipykernel)",
   "language": "python",
   "name": "python3"
  },
  "language_info": {
   "codemirror_mode": {
    "name": "ipython",
    "version": 3
   },
   "file_extension": ".py",
   "mimetype": "text/x-python",
   "name": "python",
   "nbconvert_exporter": "python",
   "pygments_lexer": "ipython3",
   "version": "3.10.11"
  }
 },
 "nbformat": 4,
 "nbformat_minor": 5
}
